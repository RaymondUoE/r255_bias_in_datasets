{
 "cells": [
  {
   "cell_type": "code",
   "execution_count": 7,
   "metadata": {},
   "outputs": [],
   "source": [
    "\n",
    "import pytorch_lightning as pl\n",
    "import torch\n",
    "# from custom_dataset_for_ear import get_dataset_by_name, TokenizerDataModule\n",
    "from transformers import (\n",
    "    AutoModelForSequenceClassification,\n",
    "    AutoTokenizer,\n",
    "    AdamW,\n",
    "    get_linear_schedule_with_warmup,\n",
    "\n",
    ")\n",
    "from ear_with_gab import *\n",
    "from torch.utils.data import Dataset, DataLoader, ConcatDataset\n"
   ]
  },
  {
   "cell_type": "code",
   "execution_count": 12,
   "metadata": {},
   "outputs": [],
   "source": [
    "\n",
    "src_model_path = './ear_bert/entropybert-gab25k-0-0.01/'\n",
    "src_model = [x for x in os.listdir(src_model_path) if x.startswith('PL-epoch')][0]\n",
    "warmup_train_perc = 0.1\n",
    "max_epochs = 10\n",
    "balanced_loss = True"
   ]
  },
  {
   "cell_type": "code",
   "execution_count": 13,
   "metadata": {},
   "outputs": [],
   "source": [
    "tokenizer = AutoTokenizer.from_pretrained(src_model_path)"
   ]
  },
  {
   "cell_type": "code",
   "execution_count": 10,
   "metadata": {},
   "outputs": [],
   "source": [
    "data_path = './data/Dynamically-Generated-Hate-Speech-Dataset/Dynamically Generated Hate Dataset v0.2.3.csv'\n",
    "data = pd.read_csv(data_path, index_col=0)"
   ]
  },
  {
   "cell_type": "code",
   "execution_count": 14,
   "metadata": {},
   "outputs": [],
   "source": [
    "class DynaDataset(Dataset):\n",
    "    def __init__(self, data: pd.DataFrame, tokenizer):\n",
    "        self.texts = data[\"text\"].tolist()\n",
    "        self.labels = torch.LongTensor((data['label']=='hate').astype(int).to_list())\n",
    "        self.encodings = tokenizer(\n",
    "                self.texts,\n",
    "                truncation=True,\n",
    "                padding=\"max_length\",\n",
    "                max_length=128,\n",
    "                return_tensors=\"pt\",\n",
    "            )\n",
    "\n",
    "    def __getitem__(self, idx):\n",
    "        item = {k: v[idx] for k, v in self.encodings.items()}\n",
    "        item[\"labels\"] = self.labels[idx]\n",
    "        return item\n",
    "\n",
    "        # return {\"text\": self.texts[idx], \"label\": self.labels[idx]}\n",
    "\n",
    "    def __len__(self):\n",
    "        return len(self.labels)\n",
    "\n",
    "    def get_texts(self):\n",
    "        return self.texts\n",
    "\n",
    "    def get_labels(self):\n",
    "        return self.labels"
   ]
  },
  {
   "cell_type": "code",
   "execution_count": 15,
   "metadata": {},
   "outputs": [],
   "source": [
    "dataloader_rounds_split = []\n",
    "for round in range(1, 5):\n",
    "    train = DynaDataset(data[(data['split']=='train')&(data['round.base']==round)], tokenizer)\n",
    "    dev = DynaDataset(data[(data['split']=='dev')&(data['round.base']==round)], tokenizer)\n",
    "    test = DynaDataset(data[(data['split']=='test')&(data['round.base']==round)], tokenizer)\n",
    "    # datasets_rounds_split.append([train, dev, test])\n",
    "    dataloader_rounds_split.append(\n",
    "        [\n",
    "            DataLoader(train, batch_size=32, shuffle=True),\n",
    "            DataLoader(dev, batch_size=32, shuffle=False),\n",
    "            DataLoader(test, batch_size=32, shuffle=False),\n",
    "        ]\n",
    "    )"
   ]
  },
  {
   "cell_type": "code",
   "execution_count": 4,
   "metadata": {},
   "outputs": [],
   "source": [
    "model = LMForSequenceClassification.load_from_checkpoint(\n",
    "            './ear_bert/entropybert-gab25k-0-0.01/R1/PL-epoch=0-val_loss=-0.116-train_loss=-0.276-Rround=0-v1.ckpt'\n",
    "        )"
   ]
  },
  {
   "cell_type": "code",
   "execution_count": 17,
   "metadata": {},
   "outputs": [
    {
     "name": "stderr",
     "output_type": "stream",
     "text": [
      "GPU available: True (cuda), used: True\n",
      "TPU available: False, using: 0 TPU cores\n",
      "IPU available: False, using: 0 IPUs\n",
      "HPU available: False, using: 0 HPUs\n",
      "/home/raymond/anaconda3/envs/r255/lib/python3.10/site-packages/pytorch_lightning/trainer/connectors/logger_connector/logger_connector.py:67: UserWarning: Starting from v1.9.0, `tensorboardX` has been removed as a dependency of the `pytorch_lightning` package, due to potential conflicts with other packages in the ML ecosystem. For this reason, `logger=True` will use `CSVLogger` as the default logger, unless the `tensorboard` or `tensorboardX` packages are found. Please `pip install lightning[extra]` or one of them to enable TensorBoard support by default\n",
      "  warning_cache.warn(\n"
     ]
    }
   ],
   "source": [
    "trainer = pl.Trainer(accelerator='gpu')"
   ]
  },
  {
   "cell_type": "code",
   "execution_count": 19,
   "metadata": {},
   "outputs": [
    {
     "name": "stderr",
     "output_type": "stream",
     "text": [
      "You are using a CUDA device ('NVIDIA GeForce RTX 3080') that has Tensor Cores. To properly utilize them, you should set `torch.set_float32_matmul_precision('medium' | 'high')` which will trade-off precision for performance. For more details, read https://pytorch.org/docs/stable/generated/torch.set_float32_matmul_precision.html#torch.set_float32_matmul_precision\n",
      "LOCAL_RANK: 0 - CUDA_VISIBLE_DEVICES: [0]\n"
     ]
    },
    {
     "data": {
      "application/vnd.jupyter.widget-view+json": {
       "model_id": "4e8e83be93af4cf6b78176fa029cfe86",
       "version_major": 2,
       "version_minor": 0
      },
      "text/plain": [
       "Testing: 0it [00:00, ?it/s]"
      ]
     },
     "metadata": {},
     "output_type": "display_data"
    },
    {
     "name": "stdout",
     "output_type": "stream",
     "text": [
      "────────────────────────────────────────────────────────────────────────────────────────────────────────────────────────\n",
      "       Test metric             DataLoader 0\n",
      "────────────────────────────────────────────────────────────────────────────────────────────────────────────────────────\n",
      "         test_F1            0.9516616463661194\n",
      "        test_acc            0.9413382411003113\n",
      "        test_loss          -0.13308857381343842\n",
      "        test_prec           0.9752321839332581\n",
      "        test_rec            0.9292035102844238\n",
      "────────────────────────────────────────────────────────────────────────────────────────────────────────────────────────\n"
     ]
    }
   ],
   "source": [
    "all_tests = [dataloader_rounds_split[0][1]] + [x[2] for x in dataloader_rounds_split]\n",
    "test_result = trainer.test(model= model, dataloaders=all_tests[0])"
   ]
  },
  {
   "cell_type": "code",
   "execution_count": null,
   "metadata": {},
   "outputs": [],
   "source": []
  }
 ],
 "metadata": {
  "kernelspec": {
   "display_name": "r255",
   "language": "python",
   "name": "python3"
  },
  "language_info": {
   "codemirror_mode": {
    "name": "ipython",
    "version": 3
   },
   "file_extension": ".py",
   "mimetype": "text/x-python",
   "name": "python",
   "nbconvert_exporter": "python",
   "pygments_lexer": "ipython3",
   "version": "3.10.9"
  },
  "orig_nbformat": 4
 },
 "nbformat": 4,
 "nbformat_minor": 2
}
