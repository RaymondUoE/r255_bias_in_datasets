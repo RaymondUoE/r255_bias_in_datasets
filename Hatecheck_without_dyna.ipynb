{
 "cells": [
  {
   "cell_type": "code",
   "execution_count": 2,
   "id": "bf907a45-f75e-4df9-8dc8-8743bcc419d1",
   "metadata": {},
   "outputs": [],
   "source": [
    "import pandas as pd\n",
    "# from soc.bert.modeling import BertForSequenceClassification\n",
    "import torch\n",
    "from soc.loader import GabProcessor, WSProcessor, NytProcessor, convert_examples_to_features\n",
    "from soc.bert.tokenization import BertTokenizer\n",
    "from transformers import AutoTokenizer, BertForSequenceClassification, TextClassificationPipeline\n",
    "from datasets import Dataset\n",
    "from torch.utils.data import DataLoader\n",
    "import ear\n",
    "import matplotlib.pyplot as plt\n",
    "import seaborn as sns"
   ]
  },
  {
   "cell_type": "code",
   "execution_count": 3,
   "id": "02e6ce4d-e9a6-40ab-92b9-b4b1d5386652",
   "metadata": {},
   "outputs": [],
   "source": [
    "device = torch.device(\"cuda\" if torch.cuda.is_available() else \"cpu\")"
   ]
  },
  {
   "cell_type": "code",
   "execution_count": 4,
   "id": "8a89fdb4-99f1-4f98-abeb-9737154fcfbe",
   "metadata": {},
   "outputs": [],
   "source": [
    "data = pd.read_csv('./data/hatecheck-data/test_suite_cases.csv',index_col=0)"
   ]
  },
  {
   "cell_type": "code",
   "execution_count": 5,
   "id": "e9cfa386-e585-46e7-954b-4e59bd03cd7a",
   "metadata": {},
   "outputs": [
    {
     "data": {
      "text/html": [
       "<div>\n",
       "<style scoped>\n",
       "    .dataframe tbody tr th:only-of-type {\n",
       "        vertical-align: middle;\n",
       "    }\n",
       "\n",
       "    .dataframe tbody tr th {\n",
       "        vertical-align: top;\n",
       "    }\n",
       "\n",
       "    .dataframe thead th {\n",
       "        text-align: right;\n",
       "    }\n",
       "</style>\n",
       "<table border=\"1\" class=\"dataframe\">\n",
       "  <thead>\n",
       "    <tr style=\"text-align: right;\">\n",
       "      <th></th>\n",
       "      <th>functionality</th>\n",
       "      <th>case_id</th>\n",
       "      <th>test_case</th>\n",
       "      <th>label_gold</th>\n",
       "      <th>target_ident</th>\n",
       "      <th>direction</th>\n",
       "      <th>focus_words</th>\n",
       "      <th>focus_lemma</th>\n",
       "      <th>ref_case_id</th>\n",
       "      <th>ref_templ_id</th>\n",
       "      <th>templ_id</th>\n",
       "      <th>case_templ</th>\n",
       "    </tr>\n",
       "  </thead>\n",
       "  <tbody>\n",
       "    <tr>\n",
       "      <th>0</th>\n",
       "      <td>derog_neg_emote_h</td>\n",
       "      <td>1</td>\n",
       "      <td>I hate women.</td>\n",
       "      <td>hateful</td>\n",
       "      <td>women</td>\n",
       "      <td>general</td>\n",
       "      <td>hate</td>\n",
       "      <td>hate</td>\n",
       "      <td>NaN</td>\n",
       "      <td>NaN</td>\n",
       "      <td>1</td>\n",
       "      <td>I hate [IDENTITY_P].</td>\n",
       "    </tr>\n",
       "    <tr>\n",
       "      <th>1</th>\n",
       "      <td>derog_neg_emote_h</td>\n",
       "      <td>2</td>\n",
       "      <td>I hate trans people.</td>\n",
       "      <td>hateful</td>\n",
       "      <td>trans people</td>\n",
       "      <td>general</td>\n",
       "      <td>hate</td>\n",
       "      <td>hate</td>\n",
       "      <td>NaN</td>\n",
       "      <td>NaN</td>\n",
       "      <td>1</td>\n",
       "      <td>I hate [IDENTITY_P].</td>\n",
       "    </tr>\n",
       "    <tr>\n",
       "      <th>2</th>\n",
       "      <td>derog_neg_emote_h</td>\n",
       "      <td>3</td>\n",
       "      <td>I hate gay people.</td>\n",
       "      <td>hateful</td>\n",
       "      <td>gay people</td>\n",
       "      <td>general</td>\n",
       "      <td>hate</td>\n",
       "      <td>hate</td>\n",
       "      <td>NaN</td>\n",
       "      <td>NaN</td>\n",
       "      <td>1</td>\n",
       "      <td>I hate [IDENTITY_P].</td>\n",
       "    </tr>\n",
       "    <tr>\n",
       "      <th>3</th>\n",
       "      <td>derog_neg_emote_h</td>\n",
       "      <td>4</td>\n",
       "      <td>I hate black people.</td>\n",
       "      <td>hateful</td>\n",
       "      <td>black people</td>\n",
       "      <td>general</td>\n",
       "      <td>hate</td>\n",
       "      <td>hate</td>\n",
       "      <td>NaN</td>\n",
       "      <td>NaN</td>\n",
       "      <td>1</td>\n",
       "      <td>I hate [IDENTITY_P].</td>\n",
       "    </tr>\n",
       "    <tr>\n",
       "      <th>4</th>\n",
       "      <td>derog_neg_emote_h</td>\n",
       "      <td>5</td>\n",
       "      <td>I hate disabled people.</td>\n",
       "      <td>hateful</td>\n",
       "      <td>disabled people</td>\n",
       "      <td>general</td>\n",
       "      <td>hate</td>\n",
       "      <td>hate</td>\n",
       "      <td>NaN</td>\n",
       "      <td>NaN</td>\n",
       "      <td>1</td>\n",
       "      <td>I hate [IDENTITY_P].</td>\n",
       "    </tr>\n",
       "  </tbody>\n",
       "</table>\n",
       "</div>"
      ],
      "text/plain": [
       "       functionality  case_id                 test_case label_gold  \\\n",
       "0  derog_neg_emote_h        1            I hate women.     hateful   \n",
       "1  derog_neg_emote_h        2     I hate trans people.     hateful   \n",
       "2  derog_neg_emote_h        3       I hate gay people.     hateful   \n",
       "3  derog_neg_emote_h        4     I hate black people.     hateful   \n",
       "4  derog_neg_emote_h        5  I hate disabled people.     hateful   \n",
       "\n",
       "      target_ident direction focus_words focus_lemma  ref_case_id  \\\n",
       "0            women   general        hate        hate          NaN   \n",
       "1     trans people   general        hate        hate          NaN   \n",
       "2       gay people   general        hate        hate          NaN   \n",
       "3     black people   general        hate        hate          NaN   \n",
       "4  disabled people   general        hate        hate          NaN   \n",
       "\n",
       "   ref_templ_id  templ_id            case_templ  \n",
       "0           NaN         1  I hate [IDENTITY_P].  \n",
       "1           NaN         1  I hate [IDENTITY_P].  \n",
       "2           NaN         1  I hate [IDENTITY_P].  \n",
       "3           NaN         1  I hate [IDENTITY_P].  \n",
       "4           NaN         1  I hate [IDENTITY_P].  "
      ]
     },
     "execution_count": 5,
     "metadata": {},
     "output_type": "execute_result"
    }
   ],
   "source": [
    "data.head()"
   ]
  },
  {
   "cell_type": "code",
   "execution_count": 6,
   "id": "a70cb964-20f9-4c2d-9864-b8a9069f935f",
   "metadata": {},
   "outputs": [
    {
     "data": {
      "text/html": [
       "<div>\n",
       "<style scoped>\n",
       "    .dataframe tbody tr th:only-of-type {\n",
       "        vertical-align: middle;\n",
       "    }\n",
       "\n",
       "    .dataframe tbody tr th {\n",
       "        vertical-align: top;\n",
       "    }\n",
       "\n",
       "    .dataframe thead th {\n",
       "        text-align: right;\n",
       "    }\n",
       "</style>\n",
       "<table border=\"1\" class=\"dataframe\">\n",
       "  <thead>\n",
       "    <tr style=\"text-align: right;\">\n",
       "      <th></th>\n",
       "      <th>Values</th>\n",
       "    </tr>\n",
       "    <tr>\n",
       "      <th>Placeholder</th>\n",
       "      <th></th>\n",
       "    </tr>\n",
       "  </thead>\n",
       "  <tbody>\n",
       "    <tr>\n",
       "      <th>[IDENTITY_S]</th>\n",
       "      <td>woman, trans person, gay person, black person,...</td>\n",
       "    </tr>\n",
       "    <tr>\n",
       "      <th>[IDENTITY_P]</th>\n",
       "      <td>women, trans people, gay people, black people,...</td>\n",
       "    </tr>\n",
       "    <tr>\n",
       "      <th>[IDENTITY_A]</th>\n",
       "      <td>female, trans, gay, black, disabled, Muslim, i...</td>\n",
       "    </tr>\n",
       "    <tr>\n",
       "      <th>[SLUR_S]</th>\n",
       "      <td>bitch, slut, whore, tranny, shemale, faggot, f...</td>\n",
       "    </tr>\n",
       "    <tr>\n",
       "      <th>[SLUR_P]</th>\n",
       "      <td>bitches, sluts, whores, trannies, shemales, fa...</td>\n",
       "    </tr>\n",
       "    <tr>\n",
       "      <th>[IDENTITY_S_char_del]</th>\n",
       "      <td>womn, trns person, gy person, blck person, dis...</td>\n",
       "    </tr>\n",
       "    <tr>\n",
       "      <th>[IDENTITY_P_char_del]</th>\n",
       "      <td>womn, trns people, gy people, blck people, dis...</td>\n",
       "    </tr>\n",
       "    <tr>\n",
       "      <th>[IDENTITY_S_space_add]</th>\n",
       "      <td>w o m a n, t r a n s person, g a y person, b l...</td>\n",
       "    </tr>\n",
       "    <tr>\n",
       "      <th>[IDENTITY_P_space_add]</th>\n",
       "      <td>w o m e n, t r a n s people, g a y people, b l...</td>\n",
       "    </tr>\n",
       "    <tr>\n",
       "      <th>[SLUR_S_space_add]</th>\n",
       "      <td>b i t c h, s l u t, w h o r e, t r a n n y, s ...</td>\n",
       "    </tr>\n",
       "    <tr>\n",
       "      <th>[SLUR_P_space_add]</th>\n",
       "      <td>b i t c h e s, s l u t s, w h o r e s, t r a n...</td>\n",
       "    </tr>\n",
       "    <tr>\n",
       "      <th>[IDENTITY_S_leet]</th>\n",
       "      <td>w0man, tr4ns person, g4y person, bl4ck person,...</td>\n",
       "    </tr>\n",
       "    <tr>\n",
       "      <th>[IDENTITY_P_leet]</th>\n",
       "      <td>w0men, tr4ns people, g4y people, bl4ck people,...</td>\n",
       "    </tr>\n",
       "    <tr>\n",
       "      <th>[SLUR_S_leet]</th>\n",
       "      <td>b1tch, slu7, wh0re, tr4nny, sh3male, fagg0t, f...</td>\n",
       "    </tr>\n",
       "    <tr>\n",
       "      <th>[SLUR_P_leet]</th>\n",
       "      <td>b1tches, slu7s, wh0res, tr4nnies, sh3males, fa...</td>\n",
       "    </tr>\n",
       "  </tbody>\n",
       "</table>\n",
       "</div>"
      ],
      "text/plain": [
       "                                                                   Values\n",
       "Placeholder                                                              \n",
       "[IDENTITY_S]            woman, trans person, gay person, black person,...\n",
       "[IDENTITY_P]            women, trans people, gay people, black people,...\n",
       "[IDENTITY_A]            female, trans, gay, black, disabled, Muslim, i...\n",
       "[SLUR_S]                bitch, slut, whore, tranny, shemale, faggot, f...\n",
       "[SLUR_P]                bitches, sluts, whores, trannies, shemales, fa...\n",
       "[IDENTITY_S_char_del]   womn, trns person, gy person, blck person, dis...\n",
       "[IDENTITY_P_char_del]   womn, trns people, gy people, blck people, dis...\n",
       "[IDENTITY_S_space_add]  w o m a n, t r a n s person, g a y person, b l...\n",
       "[IDENTITY_P_space_add]  w o m e n, t r a n s people, g a y people, b l...\n",
       "[SLUR_S_space_add]      b i t c h, s l u t, w h o r e, t r a n n y, s ...\n",
       "[SLUR_P_space_add]      b i t c h e s, s l u t s, w h o r e s, t r a n...\n",
       "[IDENTITY_S_leet]       w0man, tr4ns person, g4y person, bl4ck person,...\n",
       "[IDENTITY_P_leet]       w0men, tr4ns people, g4y people, bl4ck people,...\n",
       "[SLUR_S_leet]           b1tch, slu7, wh0re, tr4nny, sh3male, fagg0t, f...\n",
       "[SLUR_P_leet]           b1tches, slu7s, wh0res, tr4nnies, sh3males, fa..."
      ]
     },
     "execution_count": 6,
     "metadata": {},
     "output_type": "execute_result"
    }
   ],
   "source": [
    "pd.read_csv('./data/hatecheck-data/template_placeholders.csv',index_col=0)\n"
   ]
  },
  {
   "cell_type": "code",
   "execution_count": 7,
   "id": "d7b88725",
   "metadata": {},
   "outputs": [
    {
     "data": {
      "text/plain": [
       "ident_pos_nh          189\n",
       "spell_leet_h          173\n",
       "spell_space_add_h     173\n",
       "counter_quote_nh      173\n",
       "slur_h                144\n",
       "spell_space_del_h     141\n",
       "counter_ref_nh        141\n",
       "negate_pos_h          140\n",
       "spell_char_del_h      140\n",
       "phrase_question_h     140\n",
       "derog_neg_attrib_h    140\n",
       "derog_neg_emote_h     140\n",
       "threat_norm_h         140\n",
       "ref_subs_clause_h     140\n",
       "derog_dehum_h         140\n",
       "profanity_h           140\n",
       "derog_impl_h          140\n",
       "threat_dir_h          133\n",
       "spell_char_swap_h     133\n",
       "ref_subs_sent_h       133\n",
       "phrase_opinion_h      133\n",
       "negate_neg_nh         133\n",
       "ident_neutral_nh      126\n",
       "profanity_nh          100\n",
       "slur_reclaimed_nh      81\n",
       "target_obj_nh          65\n",
       "target_indiv_nh        65\n",
       "target_group_nh        62\n",
       "slur_homonym_nh        30\n",
       "Name: functionality, dtype: int64"
      ]
     },
     "execution_count": 7,
     "metadata": {},
     "output_type": "execute_result"
    }
   ],
   "source": [
    "data.functionality.value_counts()"
   ]
  },
  {
   "cell_type": "code",
   "execution_count": 14,
   "id": "8b244f4f",
   "metadata": {},
   "outputs": [],
   "source": [
    "model_dir = './soc/runs/majority_gab_es_vanilla_bal_seed_0/'"
   ]
  },
  {
   "cell_type": "code",
   "execution_count": 15,
   "id": "3de43345-7f84-474d-84eb-71f3ce7ef129",
   "metadata": {},
   "outputs": [],
   "source": [
    "model = BertForSequenceClassification.from_pretrained(model_dir, num_labels=2)\n",
    "tokenizer = AutoTokenizer.from_pretrained('bert-base-uncased', do_lower_case=True)\n"
   ]
  },
  {
   "cell_type": "code",
   "execution_count": 16,
   "id": "cfd4216b-fc6f-48ff-b742-b0eb853773a9",
   "metadata": {
    "collapsed": true,
    "jupyter": {
     "outputs_hidden": true
    },
    "tags": []
   },
   "outputs": [],
   "source": [
    "pipe = TextClassificationPipeline(model=model, tokenizer=tokenizer, top_k=None, device=0)"
   ]
  },
  {
   "cell_type": "code",
   "execution_count": 17,
   "id": "17015b92-7e06-4444-8f46-785c00fe854f",
   "metadata": {},
   "outputs": [
    {
     "data": {
      "text/plain": [
       "[[{'label': 'LABEL_0', 'score': 0.5870332717895508},\n",
       "  {'label': 'LABEL_1', 'score': 0.41296669840812683}],\n",
       " [{'label': 'LABEL_1', 'score': 0.912941038608551},\n",
       "  {'label': 'LABEL_0', 'score': 0.08705893158912659}]]"
      ]
     },
     "execution_count": 17,
     "metadata": {},
     "output_type": "execute_result"
    }
   ],
   "source": [
    "pipe([\"There has been a rise and fall of hate against the jews.\",\n",
    "      'As a Muslim woman, I agree.'])"
   ]
  },
  {
   "cell_type": "code",
   "execution_count": 18,
   "id": "bd1f6cfe",
   "metadata": {},
   "outputs": [
    {
     "data": {
      "text/html": [
       "<div>\n",
       "<style scoped>\n",
       "    .dataframe tbody tr th:only-of-type {\n",
       "        vertical-align: middle;\n",
       "    }\n",
       "\n",
       "    .dataframe tbody tr th {\n",
       "        vertical-align: top;\n",
       "    }\n",
       "\n",
       "    .dataframe thead th {\n",
       "        text-align: right;\n",
       "    }\n",
       "</style>\n",
       "<table border=\"1\" class=\"dataframe\">\n",
       "  <thead>\n",
       "    <tr style=\"text-align: right;\">\n",
       "      <th></th>\n",
       "      <th>functionality</th>\n",
       "      <th>case_id</th>\n",
       "      <th>test_case</th>\n",
       "      <th>label_gold</th>\n",
       "      <th>target_ident</th>\n",
       "      <th>direction</th>\n",
       "      <th>focus_words</th>\n",
       "      <th>focus_lemma</th>\n",
       "      <th>ref_case_id</th>\n",
       "      <th>ref_templ_id</th>\n",
       "      <th>templ_id</th>\n",
       "      <th>case_templ</th>\n",
       "    </tr>\n",
       "  </thead>\n",
       "  <tbody>\n",
       "    <tr>\n",
       "      <th>0</th>\n",
       "      <td>derog_neg_emote_h</td>\n",
       "      <td>1</td>\n",
       "      <td>I hate women.</td>\n",
       "      <td>hateful</td>\n",
       "      <td>women</td>\n",
       "      <td>general</td>\n",
       "      <td>hate</td>\n",
       "      <td>hate</td>\n",
       "      <td>NaN</td>\n",
       "      <td>NaN</td>\n",
       "      <td>1</td>\n",
       "      <td>I hate [IDENTITY_P].</td>\n",
       "    </tr>\n",
       "    <tr>\n",
       "      <th>1</th>\n",
       "      <td>derog_neg_emote_h</td>\n",
       "      <td>2</td>\n",
       "      <td>I hate trans people.</td>\n",
       "      <td>hateful</td>\n",
       "      <td>trans people</td>\n",
       "      <td>general</td>\n",
       "      <td>hate</td>\n",
       "      <td>hate</td>\n",
       "      <td>NaN</td>\n",
       "      <td>NaN</td>\n",
       "      <td>1</td>\n",
       "      <td>I hate [IDENTITY_P].</td>\n",
       "    </tr>\n",
       "    <tr>\n",
       "      <th>2</th>\n",
       "      <td>derog_neg_emote_h</td>\n",
       "      <td>3</td>\n",
       "      <td>I hate gay people.</td>\n",
       "      <td>hateful</td>\n",
       "      <td>gay people</td>\n",
       "      <td>general</td>\n",
       "      <td>hate</td>\n",
       "      <td>hate</td>\n",
       "      <td>NaN</td>\n",
       "      <td>NaN</td>\n",
       "      <td>1</td>\n",
       "      <td>I hate [IDENTITY_P].</td>\n",
       "    </tr>\n",
       "    <tr>\n",
       "      <th>3</th>\n",
       "      <td>derog_neg_emote_h</td>\n",
       "      <td>4</td>\n",
       "      <td>I hate black people.</td>\n",
       "      <td>hateful</td>\n",
       "      <td>black people</td>\n",
       "      <td>general</td>\n",
       "      <td>hate</td>\n",
       "      <td>hate</td>\n",
       "      <td>NaN</td>\n",
       "      <td>NaN</td>\n",
       "      <td>1</td>\n",
       "      <td>I hate [IDENTITY_P].</td>\n",
       "    </tr>\n",
       "    <tr>\n",
       "      <th>4</th>\n",
       "      <td>derog_neg_emote_h</td>\n",
       "      <td>5</td>\n",
       "      <td>I hate disabled people.</td>\n",
       "      <td>hateful</td>\n",
       "      <td>disabled people</td>\n",
       "      <td>general</td>\n",
       "      <td>hate</td>\n",
       "      <td>hate</td>\n",
       "      <td>NaN</td>\n",
       "      <td>NaN</td>\n",
       "      <td>1</td>\n",
       "      <td>I hate [IDENTITY_P].</td>\n",
       "    </tr>\n",
       "  </tbody>\n",
       "</table>\n",
       "</div>"
      ],
      "text/plain": [
       "       functionality  case_id                 test_case label_gold  \\\n",
       "0  derog_neg_emote_h        1            I hate women.     hateful   \n",
       "1  derog_neg_emote_h        2     I hate trans people.     hateful   \n",
       "2  derog_neg_emote_h        3       I hate gay people.     hateful   \n",
       "3  derog_neg_emote_h        4     I hate black people.     hateful   \n",
       "4  derog_neg_emote_h        5  I hate disabled people.     hateful   \n",
       "\n",
       "      target_ident direction focus_words focus_lemma  ref_case_id  \\\n",
       "0            women   general        hate        hate          NaN   \n",
       "1     trans people   general        hate        hate          NaN   \n",
       "2       gay people   general        hate        hate          NaN   \n",
       "3     black people   general        hate        hate          NaN   \n",
       "4  disabled people   general        hate        hate          NaN   \n",
       "\n",
       "   ref_templ_id  templ_id            case_templ  \n",
       "0           NaN         1  I hate [IDENTITY_P].  \n",
       "1           NaN         1  I hate [IDENTITY_P].  \n",
       "2           NaN         1  I hate [IDENTITY_P].  \n",
       "3           NaN         1  I hate [IDENTITY_P].  \n",
       "4           NaN         1  I hate [IDENTITY_P].  "
      ]
     },
     "execution_count": 18,
     "metadata": {},
     "output_type": "execute_result"
    }
   ],
   "source": [
    "data[:5]"
   ]
  },
  {
   "cell_type": "code",
   "execution_count": 24,
   "id": "ab835442",
   "metadata": {},
   "outputs": [
    {
     "ename": "KeyboardInterrupt",
     "evalue": "",
     "output_type": "error",
     "traceback": [
      "\u001b[0;31m---------------------------------------------------------------------------\u001b[0m",
      "\u001b[0;31mKeyboardInterrupt\u001b[0m                         Traceback (most recent call last)",
      "Cell \u001b[0;32mIn[24], line 1\u001b[0m\n\u001b[0;32m----> 1\u001b[0m results \u001b[39m=\u001b[39m pipe(data[\u001b[39m'\u001b[39;49m\u001b[39mtest_case\u001b[39;49m\u001b[39m'\u001b[39;49m]\u001b[39m.\u001b[39;49mto_list())\n",
      "File \u001b[0;32m~/anaconda3/envs/r255/lib/python3.10/site-packages/transformers/pipelines/text_classification.py:155\u001b[0m, in \u001b[0;36mTextClassificationPipeline.__call__\u001b[0;34m(self, *args, **kwargs)\u001b[0m\n\u001b[1;32m    121\u001b[0m \u001b[39mdef\u001b[39;00m \u001b[39m__call__\u001b[39m(\u001b[39mself\u001b[39m, \u001b[39m*\u001b[39margs, \u001b[39m*\u001b[39m\u001b[39m*\u001b[39mkwargs):\n\u001b[1;32m    122\u001b[0m     \u001b[39m\"\"\"\u001b[39;00m\n\u001b[1;32m    123\u001b[0m \u001b[39m    Classify the text(s) given as inputs.\u001b[39;00m\n\u001b[1;32m    124\u001b[0m \n\u001b[0;32m   (...)\u001b[0m\n\u001b[1;32m    153\u001b[0m \u001b[39m        If `top_k` is used, one such dictionary is returned per label.\u001b[39;00m\n\u001b[1;32m    154\u001b[0m \u001b[39m    \"\"\"\u001b[39;00m\n\u001b[0;32m--> 155\u001b[0m     result \u001b[39m=\u001b[39m \u001b[39msuper\u001b[39;49m()\u001b[39m.\u001b[39;49m\u001b[39m__call__\u001b[39;49m(\u001b[39m*\u001b[39;49margs, \u001b[39m*\u001b[39;49m\u001b[39m*\u001b[39;49mkwargs)\n\u001b[1;32m    156\u001b[0m     \u001b[39m# TODO try and retrieve it in a nicer way from _sanitize_parameters.\u001b[39;00m\n\u001b[1;32m    157\u001b[0m     _legacy \u001b[39m=\u001b[39m \u001b[39m\"\u001b[39m\u001b[39mtop_k\u001b[39m\u001b[39m\"\u001b[39m \u001b[39mnot\u001b[39;00m \u001b[39min\u001b[39;00m kwargs\n",
      "File \u001b[0;32m~/anaconda3/envs/r255/lib/python3.10/site-packages/transformers/pipelines/base.py:1065\u001b[0m, in \u001b[0;36mPipeline.__call__\u001b[0;34m(self, inputs, num_workers, batch_size, *args, **kwargs)\u001b[0m\n\u001b[1;32m   1061\u001b[0m \u001b[39mif\u001b[39;00m can_use_iterator:\n\u001b[1;32m   1062\u001b[0m     final_iterator \u001b[39m=\u001b[39m \u001b[39mself\u001b[39m\u001b[39m.\u001b[39mget_iterator(\n\u001b[1;32m   1063\u001b[0m         inputs, num_workers, batch_size, preprocess_params, forward_params, postprocess_params\n\u001b[1;32m   1064\u001b[0m     )\n\u001b[0;32m-> 1065\u001b[0m     outputs \u001b[39m=\u001b[39m [output \u001b[39mfor\u001b[39;00m output \u001b[39min\u001b[39;00m final_iterator]\n\u001b[1;32m   1066\u001b[0m     \u001b[39mreturn\u001b[39;00m outputs\n\u001b[1;32m   1067\u001b[0m \u001b[39melse\u001b[39;00m:\n",
      "File \u001b[0;32m~/anaconda3/envs/r255/lib/python3.10/site-packages/transformers/pipelines/base.py:1065\u001b[0m, in \u001b[0;36m<listcomp>\u001b[0;34m(.0)\u001b[0m\n\u001b[1;32m   1061\u001b[0m \u001b[39mif\u001b[39;00m can_use_iterator:\n\u001b[1;32m   1062\u001b[0m     final_iterator \u001b[39m=\u001b[39m \u001b[39mself\u001b[39m\u001b[39m.\u001b[39mget_iterator(\n\u001b[1;32m   1063\u001b[0m         inputs, num_workers, batch_size, preprocess_params, forward_params, postprocess_params\n\u001b[1;32m   1064\u001b[0m     )\n\u001b[0;32m-> 1065\u001b[0m     outputs \u001b[39m=\u001b[39m [output \u001b[39mfor\u001b[39;00m output \u001b[39min\u001b[39;00m final_iterator]\n\u001b[1;32m   1066\u001b[0m     \u001b[39mreturn\u001b[39;00m outputs\n\u001b[1;32m   1067\u001b[0m \u001b[39melse\u001b[39;00m:\n",
      "File \u001b[0;32m~/anaconda3/envs/r255/lib/python3.10/site-packages/transformers/pipelines/pt_utils.py:124\u001b[0m, in \u001b[0;36mPipelineIterator.__next__\u001b[0;34m(self)\u001b[0m\n\u001b[1;32m    121\u001b[0m     \u001b[39mreturn\u001b[39;00m \u001b[39mself\u001b[39m\u001b[39m.\u001b[39mloader_batch_item()\n\u001b[1;32m    123\u001b[0m \u001b[39m# We're out of items within a batch\u001b[39;00m\n\u001b[0;32m--> 124\u001b[0m item \u001b[39m=\u001b[39m \u001b[39mnext\u001b[39;49m(\u001b[39mself\u001b[39;49m\u001b[39m.\u001b[39;49miterator)\n\u001b[1;32m    125\u001b[0m processed \u001b[39m=\u001b[39m \u001b[39mself\u001b[39m\u001b[39m.\u001b[39minfer(item, \u001b[39m*\u001b[39m\u001b[39m*\u001b[39m\u001b[39mself\u001b[39m\u001b[39m.\u001b[39mparams)\n\u001b[1;32m    126\u001b[0m \u001b[39m# We now have a batch of \"inferred things\".\u001b[39;00m\n",
      "File \u001b[0;32m~/anaconda3/envs/r255/lib/python3.10/site-packages/transformers/pipelines/pt_utils.py:125\u001b[0m, in \u001b[0;36mPipelineIterator.__next__\u001b[0;34m(self)\u001b[0m\n\u001b[1;32m    123\u001b[0m \u001b[39m# We're out of items within a batch\u001b[39;00m\n\u001b[1;32m    124\u001b[0m item \u001b[39m=\u001b[39m \u001b[39mnext\u001b[39m(\u001b[39mself\u001b[39m\u001b[39m.\u001b[39miterator)\n\u001b[0;32m--> 125\u001b[0m processed \u001b[39m=\u001b[39m \u001b[39mself\u001b[39;49m\u001b[39m.\u001b[39;49minfer(item, \u001b[39m*\u001b[39;49m\u001b[39m*\u001b[39;49m\u001b[39mself\u001b[39;49m\u001b[39m.\u001b[39;49mparams)\n\u001b[1;32m    126\u001b[0m \u001b[39m# We now have a batch of \"inferred things\".\u001b[39;00m\n\u001b[1;32m    127\u001b[0m \u001b[39mif\u001b[39;00m \u001b[39mself\u001b[39m\u001b[39m.\u001b[39mloader_batch_size \u001b[39mis\u001b[39;00m \u001b[39mnot\u001b[39;00m \u001b[39mNone\u001b[39;00m:\n\u001b[1;32m    128\u001b[0m     \u001b[39m# Try to infer the size of the batch\u001b[39;00m\n",
      "File \u001b[0;32m~/anaconda3/envs/r255/lib/python3.10/site-packages/transformers/pipelines/base.py:989\u001b[0m, in \u001b[0;36mPipeline.forward\u001b[0;34m(self, model_inputs, **forward_params)\u001b[0m\n\u001b[1;32m    987\u001b[0m     model_outputs \u001b[39m=\u001b[39m \u001b[39mself\u001b[39m\u001b[39m.\u001b[39m_forward(model_inputs, \u001b[39m*\u001b[39m\u001b[39m*\u001b[39mforward_params)\n\u001b[1;32m    988\u001b[0m \u001b[39melif\u001b[39;00m \u001b[39mself\u001b[39m\u001b[39m.\u001b[39mframework \u001b[39m==\u001b[39m \u001b[39m\"\u001b[39m\u001b[39mpt\u001b[39m\u001b[39m\"\u001b[39m:\n\u001b[0;32m--> 989\u001b[0m     inference_context \u001b[39m=\u001b[39m \u001b[39mself\u001b[39;49m\u001b[39m.\u001b[39;49mget_inference_context()\n\u001b[1;32m    990\u001b[0m     \u001b[39mwith\u001b[39;00m inference_context():\n\u001b[1;32m    991\u001b[0m         model_inputs \u001b[39m=\u001b[39m \u001b[39mself\u001b[39m\u001b[39m.\u001b[39m_ensure_tensor_on_device(model_inputs, device\u001b[39m=\u001b[39m\u001b[39mself\u001b[39m\u001b[39m.\u001b[39mdevice)\n",
      "File \u001b[0;32m~/anaconda3/envs/r255/lib/python3.10/site-packages/transformers/pipelines/base.py:978\u001b[0m, in \u001b[0;36mPipeline.get_inference_context\u001b[0;34m(self)\u001b[0m\n\u001b[1;32m    975\u001b[0m \u001b[39mdef\u001b[39;00m \u001b[39mget_inference_context\u001b[39m(\u001b[39mself\u001b[39m):\n\u001b[1;32m    976\u001b[0m     inference_context \u001b[39m=\u001b[39m (\n\u001b[1;32m    977\u001b[0m         torch\u001b[39m.\u001b[39minference_mode\n\u001b[0;32m--> 978\u001b[0m         \u001b[39mif\u001b[39;00m version\u001b[39m.\u001b[39mparse(version\u001b[39m.\u001b[39;49mparse(torch\u001b[39m.\u001b[39;49m__version__)\u001b[39m.\u001b[39mbase_version) \u001b[39m>\u001b[39m\u001b[39m=\u001b[39m version\u001b[39m.\u001b[39mparse(\u001b[39m\"\u001b[39m\u001b[39m1.9.0\u001b[39m\u001b[39m\"\u001b[39m)\n\u001b[1;32m    979\u001b[0m         \u001b[39melse\u001b[39;00m torch\u001b[39m.\u001b[39mno_grad\n\u001b[1;32m    980\u001b[0m     )\n\u001b[1;32m    981\u001b[0m     \u001b[39mreturn\u001b[39;00m inference_context\n",
      "File \u001b[0;32m~/anaconda3/envs/r255/lib/python3.10/site-packages/packaging/version.py:52\u001b[0m, in \u001b[0;36mparse\u001b[0;34m(version)\u001b[0m\n\u001b[1;32m     43\u001b[0m \u001b[39mdef\u001b[39;00m \u001b[39mparse\u001b[39m(version: \u001b[39mstr\u001b[39m) \u001b[39m-\u001b[39m\u001b[39m>\u001b[39m \u001b[39m\"\u001b[39m\u001b[39mVersion\u001b[39m\u001b[39m\"\u001b[39m:\n\u001b[1;32m     44\u001b[0m     \u001b[39m\"\"\"Parse the given version string.\u001b[39;00m\n\u001b[1;32m     45\u001b[0m \n\u001b[1;32m     46\u001b[0m \u001b[39m    >>> parse('1.0.dev1')\u001b[39;00m\n\u001b[0;32m   (...)\u001b[0m\n\u001b[1;32m     50\u001b[0m \u001b[39m    :raises InvalidVersion: When the version string is not a valid version.\u001b[39;00m\n\u001b[1;32m     51\u001b[0m \u001b[39m    \"\"\"\u001b[39;00m\n\u001b[0;32m---> 52\u001b[0m     \u001b[39mreturn\u001b[39;00m Version(version)\n",
      "File \u001b[0;32m~/anaconda3/envs/r255/lib/python3.10/site-packages/packaging/version.py:195\u001b[0m, in \u001b[0;36mVersion.__init__\u001b[0;34m(self, version)\u001b[0m\n\u001b[1;32m    184\u001b[0m \u001b[39m\"\"\"Initialize a Version object.\u001b[39;00m\n\u001b[1;32m    185\u001b[0m \n\u001b[1;32m    186\u001b[0m \u001b[39m:param version:\u001b[39;00m\n\u001b[0;32m   (...)\u001b[0m\n\u001b[1;32m    191\u001b[0m \u001b[39m    exception will be raised.\u001b[39;00m\n\u001b[1;32m    192\u001b[0m \u001b[39m\"\"\"\u001b[39;00m\n\u001b[1;32m    194\u001b[0m \u001b[39m# Validate the version and parse it into pieces\u001b[39;00m\n\u001b[0;32m--> 195\u001b[0m match \u001b[39m=\u001b[39m \u001b[39mself\u001b[39;49m\u001b[39m.\u001b[39;49m_regex\u001b[39m.\u001b[39;49msearch(version)\n\u001b[1;32m    196\u001b[0m \u001b[39mif\u001b[39;00m \u001b[39mnot\u001b[39;00m match:\n\u001b[1;32m    197\u001b[0m     \u001b[39mraise\u001b[39;00m InvalidVersion(\u001b[39mf\u001b[39m\u001b[39m\"\u001b[39m\u001b[39mInvalid version: \u001b[39m\u001b[39m'\u001b[39m\u001b[39m{\u001b[39;00mversion\u001b[39m}\u001b[39;00m\u001b[39m'\u001b[39m\u001b[39m\"\u001b[39m)\n",
      "\u001b[0;31mKeyboardInterrupt\u001b[0m: "
     ]
    }
   ],
   "source": [
    "results = pipe(data['test_case'].to_list())"
   ]
  },
  {
   "cell_type": "code",
   "execution_count": 22,
   "id": "29ffdd9e",
   "metadata": {},
   "outputs": [
    {
     "data": {
      "text/plain": [
       "[[{'label': 'LABEL_0', 'score': 0.7641169428825378},\n",
       "  {'label': 'LABEL_1', 'score': 0.23588307201862335}],\n",
       " [{'label': 'LABEL_1', 'score': 0.9289242625236511},\n",
       "  {'label': 'LABEL_0', 'score': 0.07107576727867126}],\n",
       " [{'label': 'LABEL_1', 'score': 0.8919501900672913},\n",
       "  {'label': 'LABEL_0', 'score': 0.10804979503154755}],\n",
       " [{'label': 'LABEL_1', 'score': 0.9087405800819397},\n",
       "  {'label': 'LABEL_0', 'score': 0.09125946462154388}],\n",
       " [{'label': 'LABEL_0', 'score': 0.869394838809967},\n",
       "  {'label': 'LABEL_1', 'score': 0.13060522079467773}]]"
      ]
     },
     "execution_count": 22,
     "metadata": {},
     "output_type": "execute_result"
    }
   ],
   "source": [
    "results"
   ]
  },
  {
   "cell_type": "code",
   "execution_count": 23,
   "id": "c98a6282",
   "metadata": {},
   "outputs": [
    {
     "data": {
      "text/plain": [
       "[0.7641169428825378,\n",
       " 0.07107576727867126,\n",
       " 0.10804979503154755,\n",
       " 0.09125946462154388,\n",
       " 0.869394838809967]"
      ]
     },
     "execution_count": 23,
     "metadata": {},
     "output_type": "execute_result"
    }
   ],
   "source": [
    "[x['score'] for y in results for x in y if x['label']=='LABEL_0']"
   ]
  },
  {
   "cell_type": "code",
   "execution_count": 27,
   "id": "ae8845bb",
   "metadata": {},
   "outputs": [
    {
     "data": {
      "text/plain": [
       "[[{'label': 'LABEL_1', 'score': 0.9528517723083496},\n",
       "  {'label': 'LABEL_0', 'score': 0.04714824631810188}]]"
      ]
     },
     "execution_count": 27,
     "metadata": {},
     "output_type": "execute_result"
    }
   ],
   "source": [
    "pipe(['This camputer is garbage.'])"
   ]
  },
  {
   "cell_type": "code",
   "execution_count": 30,
   "id": "8d7b25a1",
   "metadata": {},
   "outputs": [
    {
     "data": {
      "text/plain": [
       "<Axes: xlabel='target_ident', ylabel='count'>"
      ]
     },
     "execution_count": 30,
     "metadata": {},
     "output_type": "execute_result"
    },
    {
     "data": {
      "image/png": "[encoded data removed]",
      "text/plain": [
       "<Figure size 640x480 with 1 Axes>"
      ]
     },
     "metadata": {},
     "output_type": "display_data"
    }
   ],
   "source": [
    "sns.countplot(data=data, x='target_ident')"
   ]
  },
  {
   "cell_type": "code",
   "execution_count": null,
   "id": "0af6855f",
   "metadata": {},
   "outputs": [],
   "source": []
  }
 ],
 "metadata": {
  "kernelspec": {
   "display_name": "Python 3 (ipykernel)",
   "language": "python",
   "name": "python3"
  },
  "language_info": {
   "codemirror_mode": {
    "name": "ipython",
    "version": 3
   },
   "file_extension": ".py",
   "mimetype": "text/x-python",
   "name": "python",
   "nbconvert_exporter": "python",
   "pygments_lexer": "ipython3",
   "version": "3.10.9"
  }
 },
 "nbformat": 4,
 "nbformat_minor": 5
}
