{
 "cells": [
  {
   "cell_type": "code",
   "execution_count": 4,
   "metadata": {},
   "outputs": [],
   "source": [
    "import pandas as pd\n",
    "import torch\n",
    "from transformers import AutoTokenizer, BertForSequenceClassification, TextClassificationPipeline\n",
    "import matplotlib.pyplot as plt\n",
    "import seaborn as sns\n",
    "import numpy as np\n",
    "from sklearn.metrics import accuracy_score, f1_score, precision_score, recall_score\n",
    "import os\n",
    "from tqdm import tqdm\n",
    "from scipy.stats import ttest_ind"
   ]
  },
  {
   "cell_type": "code",
   "execution_count": 5,
   "metadata": {},
   "outputs": [],
   "source": [
    "path = './soc/data/majority_gab_dataset_25k/'\n",
    "mode = 'test'\n",
    "data = pd.read_json(os.path.join(path, f'{mode}.jsonl'), lines=True)\n",
    "text = data['Text'].to_list()"
   ]
  },
  {
   "cell_type": "code",
   "execution_count": 8,
   "metadata": {},
   "outputs": [
    {
     "name": "stderr",
     "output_type": "stream",
     "text": [
      "100%|██████████| 10/10 [06:14<00:00, 37.49s/it]\n"
     ]
    }
   ],
   "source": [
    "true_label = ((data['cv']+data['hd'])>0).astype(int).to_list()\n",
    "for seed in tqdm(range(10), total=10):\n",
    "    \n",
    "    # model_dir = f'./soc/runs/majority_gab_es_vanilla_bal_seed_{seed}/'\n",
    "    model_dir = f'./soc/runs/majority_gab_es_reg_nb5_h5_is_bal_pos_seed_{seed}'\n",
    "    # model_dir = f'./ear_bert/entropybert-gab25k-{seed}-0.01/'\n",
    "    model = BertForSequenceClassification.from_pretrained(model_dir, num_labels=2)\n",
    "    tokenizer = AutoTokenizer.from_pretrained('bert-base-uncased')\n",
    "    pipe = TextClassificationPipeline(model=model, tokenizer=tokenizer, top_k=None, device=0, truncation=True,padding=\"max_length\",max_length=512)\n",
    "    results = pipe(text)\n",
    "    prob_non_hate = [x['score'] for y in results for x in y if x['label']=='LABEL_0']\n",
    "    prob_hate = [x['score'] for y in results for x in y if x['label']=='LABEL_1']\n",
    "    pred_label = [0 if a > b else 1 for (a, b) in zip(prob_non_hate, prob_hate)]\n",
    "    # data['true_label'] = [0 if x == 'non-hateful' else 1 for x in data['label_gold']]\n",
    "    \n",
    "    out_dict = {}\n",
    "    out_dict['Text'] = text\n",
    "    out_dict['pred_label'] = pred_label\n",
    "    out_dict['true_label'] = true_label\n",
    "    \n",
    "    results_df = pd.DataFrame.from_dict(out_dict)\n",
    "    os.makedirs(os.path.join(model_dir, 'prediction'), exist_ok=True)\n",
    "    results_df.to_csv(os.path.join(model_dir, f'prediction/gab_{mode}.csv'), index=False)"
   ]
  },
  {
   "cell_type": "code",
   "execution_count": null,
   "metadata": {},
   "outputs": [],
   "source": []
  },
  {
   "attachments": {},
   "cell_type": "markdown",
   "metadata": {},
   "source": [
    "### get overall metrics"
   ]
  },
  {
   "cell_type": "code",
   "execution_count": 9,
   "metadata": {},
   "outputs": [],
   "source": [
    "acc_all = []\n",
    "f1_all = []\n",
    "precision_all = []\n",
    "recall_all = []"
   ]
  },
  {
   "cell_type": "code",
   "execution_count": 32,
   "metadata": {},
   "outputs": [],
   "source": [
    "\n",
    "acc = []\n",
    "f1 = []\n",
    "precision = []\n",
    "recall = []\n",
    "for seed in range(10):\n",
    "    \n",
    "    # path = f'./soc/runs/majority_gab_es_vanilla_bal_seed_{seed}/prediction/gab_test.csv'\n",
    "    \n",
    "    # path = f'./soc/runs/majority_gab_es_reg_nb5_h5_is_bal_pos_seed_{seed}/prediction/gab_test.csv'\n",
    "    path = f'./ear_bert/entropybert-gab25k-{seed}-0.01/prediction/gab_test.csv'\n",
    "    data = pd.read_csv(path)\n",
    "    # data = filter_data(data)\n",
    "    pred = data['pred_label'].to_list()\n",
    "    label = data['true_label'].to_list()\n",
    "    acc.append(accuracy_score(y_true=label, y_pred=pred))\n",
    "    f1.append(f1_score(y_true=label, y_pred=pred))\n",
    "    precision.append(precision_score(y_true=label, y_pred=pred))\n",
    "    recall.append(recall_score(y_true=label, y_pred=pred))\n",
    "acc_all.append(acc)\n",
    "f1_all.append(f1)\n",
    "precision_all.append(precision)\n",
    "recall_all.append(recall)"
   ]
  },
  {
   "cell_type": "code",
   "execution_count": 30,
   "metadata": {},
   "outputs": [
    {
     "data": {
      "text/plain": [
       "(0.5671814671814672, 0.05312073451781375)"
      ]
     },
     "execution_count": 30,
     "metadata": {},
     "output_type": "execute_result"
    }
   ],
   "source": [
    "(np.mean(recall), np.std(recall))"
   ]
  },
  {
   "cell_type": "code",
   "execution_count": 37,
   "metadata": {},
   "outputs": [
    {
     "name": "stdout",
     "output_type": "stream",
     "text": [
      "56.71814671814671\n",
      "5.312073451781375\n"
     ]
    }
   ],
   "source": [
    "metric = [100*x for x in recall_all[3]]\n",
    "print(np.mean(metric))\n",
    "print(np.std(metric))"
   ]
  },
  {
   "cell_type": "code",
   "execution_count": 53,
   "metadata": {},
   "outputs": [
    {
     "data": {
      "text/plain": [
       "Ttest_indResult(statistic=0.39080471157197444, pvalue=0.7005284798854077)"
      ]
     },
     "execution_count": 53,
     "metadata": {},
     "output_type": "execute_result"
    }
   ],
   "source": [
    "ttest_ind(recall_all[1], recall_all[0])"
   ]
  },
  {
   "cell_type": "code",
   "execution_count": 54,
   "metadata": {},
   "outputs": [
    {
     "data": {
      "text/plain": [
       "[[0.6138996138996139,\n",
       "  0.6447876447876448,\n",
       "  0.5521235521235521,\n",
       "  0.7258687258687259,\n",
       "  0.6563706563706564,\n",
       "  0.5868725868725869,\n",
       "  0.61003861003861,\n",
       "  0.583011583011583,\n",
       "  0.6177606177606177,\n",
       "  0.5907335907335908],\n",
       " [0.5907335907335908,\n",
       "  0.5212355212355212,\n",
       "  0.6640926640926641,\n",
       "  0.6640926640926641,\n",
       "  0.6293436293436293,\n",
       "  0.7065637065637066,\n",
       "  0.6640926640926641,\n",
       "  0.5984555984555985,\n",
       "  0.5907335907335908,\n",
       "  0.640926640926641],\n",
       " [0.7112758486149044,\n",
       "  0.6500195083886071,\n",
       "  0.6246586031993757,\n",
       "  0.7019118220834959,\n",
       "  0.759266484588373,\n",
       "  0.7740928599297698,\n",
       "  0.5673039406944986,\n",
       "  0.6984003121342177,\n",
       "  0.6757705813499805,\n",
       "  0.6410456496293406],\n",
       " [0.5019305019305019,\n",
       "  0.5444015444015444,\n",
       "  0.583011583011583,\n",
       "  0.5096525096525096,\n",
       "  0.6756756756756757,\n",
       "  0.5675675675675675,\n",
       "  0.5173745173745173,\n",
       "  0.6254826254826255,\n",
       "  0.6061776061776062,\n",
       "  0.5405405405405406]]"
      ]
     },
     "execution_count": 54,
     "metadata": {},
     "output_type": "execute_result"
    }
   ],
   "source": [
    "recall_all"
   ]
  }
 ],
 "metadata": {
  "kernelspec": {
   "display_name": "r255",
   "language": "python",
   "name": "python3"
  },
  "language_info": {
   "codemirror_mode": {
    "name": "ipython",
    "version": 3
   },
   "file_extension": ".py",
   "mimetype": "text/x-python",
   "name": "python",
   "nbconvert_exporter": "python",
   "pygments_lexer": "ipython3",
   "version": "3.10.9"
  },
  "orig_nbformat": 4
 },
 "nbformat": 4,
 "nbformat_minor": 2
}
