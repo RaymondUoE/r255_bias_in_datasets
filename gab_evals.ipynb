{
 "cells": [
  {
   "cell_type": "code",
   "execution_count": 1,
   "metadata": {},
   "outputs": [],
   "source": [
    "import pandas as pd\n",
    "import torch\n",
    "from transformers import AutoTokenizer, BertForSequenceClassification, TextClassificationPipeline\n",
    "import matplotlib.pyplot as plt\n",
    "import seaborn as sns\n",
    "import numpy as np\n",
    "from sklearn.metrics import accuracy_score, f1_score, precision_score, recall_score\n",
    "import os\n",
    "from tqdm import tqdm\n",
    "from scipy.stats import ttest_ind"
   ]
  },
  {
   "cell_type": "code",
   "execution_count": 23,
   "metadata": {},
   "outputs": [],
   "source": [
    "path = './soc/data/majority_gab_dataset_25k/'\n",
    "mode = 'test'\n",
    "data = pd.read_json(os.path.join(path, f'{mode}.jsonl'), lines=True)\n",
    "text = data['Text'].to_list()"
   ]
  },
  {
   "cell_type": "code",
   "execution_count": 24,
   "metadata": {},
   "outputs": [
    {
     "name": "stderr",
     "output_type": "stream",
     "text": [
      "100%|██████████| 10/10 [15:18<00:00, 91.87s/it]\n"
     ]
    }
   ],
   "source": [
    "true_label = ((data['cv']+data['hd'])>0).astype(int).to_list()\n",
    "for seed in tqdm(range(10), total=10):\n",
    "    \n",
    "    # data = pd.read_csv('./data/hatecheck-data/test_suite_cases.csv',index_col=0)\n",
    "\n",
    "    model_dir = f'./ear_bert/entropybert-gab25k-{seed}-0.01/'\n",
    "    model = BertForSequenceClassification.from_pretrained(model_dir, num_labels=2)\n",
    "    tokenizer = AutoTokenizer.from_pretrained(model_dir)\n",
    "    pipe = TextClassificationPipeline(model=model, tokenizer=tokenizer, top_k=None, device=0, truncation=True,padding=\"max_length\",max_length=512)\n",
    "    results = pipe(text)\n",
    "    prob_non_hate = [x['score'] for y in results for x in y if x['label']=='LABEL_0']\n",
    "    prob_hate = [x['score'] for y in results for x in y if x['label']=='LABEL_1']\n",
    "    pred_label = [0 if a > b else 1 for (a, b) in zip(prob_non_hate, prob_hate)]\n",
    "    # data['true_label'] = [0 if x == 'non-hateful' else 1 for x in data['label_gold']]\n",
    "    \n",
    "    out_dict = {}\n",
    "    out_dict['Text'] = text\n",
    "    out_dict['pred_label'] = pred_label\n",
    "    out_dict['true_label'] = true_label\n",
    "    \n",
    "    results_df = pd.DataFrame.from_dict(out_dict)\n",
    "    os.makedirs(os.path.join(model_dir, 'prediction'), exist_ok=True)\n",
    "    results_df.to_csv(os.path.join(model_dir, f'prediction/gab_{mode}.csv'), index=False)"
   ]
  },
  {
   "cell_type": "code",
   "execution_count": null,
   "metadata": {},
   "outputs": [],
   "source": []
  },
  {
   "attachments": {},
   "cell_type": "markdown",
   "metadata": {},
   "source": [
    "### get overall metrics"
   ]
  },
  {
   "cell_type": "code",
   "execution_count": null,
   "metadata": {},
   "outputs": [],
   "source": []
  },
  {
   "cell_type": "code",
   "execution_count": 25,
   "metadata": {},
   "outputs": [],
   "source": [
    "acc_all = []\n",
    "f1_all = []\n",
    "precision_all = []\n",
    "recall_all = []\n",
    "acc = []\n",
    "f1 = []\n",
    "precision = []\n",
    "recall = []\n",
    "for seed in range(10):\n",
    "    \n",
    "    path = f'./ear_bert/entropybert-gab25k-{seed}-0.01/prediction/gab_test.csv'\n",
    "    \n",
    "    # path = f'./soc/runs/majority_gab_es_reg_nb5_h5_is_bal_pos_seed_{seed}/prediction/hatecheck.csv'\n",
    "    # path = f'./ear_bert/entropybert-gab25k-{seed}-0.01/prediction/hatecheck.csv'\n",
    "    data = pd.read_csv(path)\n",
    "    # data = filter_data(data)\n",
    "    pred = data['pred_label'].to_list()\n",
    "    label = data['true_label'].to_list()\n",
    "    acc.append(accuracy_score(y_true=label, y_pred=pred))\n",
    "    f1.append(f1_score(y_true=label, y_pred=pred))\n",
    "    precision.append(precision_score(y_true=label, y_pred=pred))\n",
    "    recall.append(recall_score(y_true=label, y_pred=pred))\n",
    "acc_all.append(acc)\n",
    "f1_all.append(f1)\n",
    "precision_all.append(precision)\n",
    "recall_all.append(recall)"
   ]
  },
  {
   "cell_type": "code",
   "execution_count": 30,
   "metadata": {},
   "outputs": [
    {
     "data": {
      "text/plain": [
       "(0.5671814671814672, 0.05312073451781375)"
      ]
     },
     "execution_count": 30,
     "metadata": {},
     "output_type": "execute_result"
    }
   ],
   "source": [
    "(np.mean(recall), np.std(recall))"
   ]
  },
  {
   "cell_type": "code",
   "execution_count": null,
   "metadata": {},
   "outputs": [],
   "source": []
  },
  {
   "cell_type": "code",
   "execution_count": null,
   "metadata": {},
   "outputs": [],
   "source": []
  }
 ],
 "metadata": {
  "kernelspec": {
   "display_name": "r255",
   "language": "python",
   "name": "python3"
  },
  "language_info": {
   "codemirror_mode": {
    "name": "ipython",
    "version": 3
   },
   "file_extension": ".py",
   "mimetype": "text/x-python",
   "name": "python",
   "nbconvert_exporter": "python",
   "pygments_lexer": "ipython3",
   "version": "3.10.9"
  },
  "orig_nbformat": 4
 },
 "nbformat": 4,
 "nbformat_minor": 2
}
