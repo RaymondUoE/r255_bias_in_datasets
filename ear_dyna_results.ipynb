{
 "cells": [
  {
   "cell_type": "code",
   "execution_count": 1,
   "metadata": {},
   "outputs": [],
   "source": [
    "import pandas as pd\n",
    "import torch\n",
    "from transformers import AutoTokenizer, BertForSequenceClassification, TextClassificationPipeline\n",
    "import matplotlib.pyplot as plt\n",
    "import seaborn as sns\n",
    "import numpy as np\n",
    "from sklearn.metrics import accuracy_score, f1_score, precision_score, recall_score\n",
    "import os\n",
    "from tqdm import tqdm\n",
    "from scipy.stats import ttest_ind"
   ]
  },
  {
   "cell_type": "code",
   "execution_count": null,
   "metadata": {},
   "outputs": [],
   "source": [
    "device = torch.device(\"cuda\" if torch.cuda.is_available() else \"cpu\")\n",
    "data = pd.read_csv('./data/hatecheck-data/test_suite_cases.csv',index_col=0)\n",
    "data.head()"
   ]
  },
  {
   "cell_type": "code",
   "execution_count": null,
   "metadata": {},
   "outputs": [],
   "source": [
    "# ear regularisation\n",
    "for seed in tqdm(range(10), total=10):\n",
    "    for round in (range(1, 5)):\n",
    "        data = pd.read_csv('./data/hatecheck-data/test_suite_cases.csv',index_col=0)\n",
    "\n",
    "        model_dir = f'./ear_bert/entropybert-gab25k-{seed}-0.01/R{round}'\n",
    "        model = BertForSequenceClassification.from_pretrained(model_dir, num_labels=2)\n",
    "        tokenizer = AutoTokenizer.from_pretrained(model_dir, do_lower_case=True)\n",
    "        pipe = TextClassificationPipeline(model=model, tokenizer=tokenizer, top_k=None, device=0)\n",
    "        results = pipe(data['test_case'].to_list())\n",
    "        data['prob_non_hate'] = [x['score'] for y in results for x in y if x['label']=='LABEL_0']\n",
    "        data['prob_hate'] = [x['score'] for y in results for x in y if x['label']=='LABEL_1']\n",
    "        data['pred_label'] = [0 if a > b else 1 for (a, b) in zip(data['prob_non_hate'].to_list(), data['prob_hate'].to_list())]\n",
    "        data['true_label'] = [0 if x == 'non-hateful' else 1 for x in data['label_gold']]\n",
    "        os.makedirs(os.path.join(model_dir, 'prediction'), exist_ok=True)\n",
    "        data.to_csv(os.path.join(model_dir, 'prediction/hatecheck.csv'), index=False)"
   ]
  },
  {
   "cell_type": "markdown",
   "metadata": {},
   "source": [
    "## get overall performance metrics"
   ]
  },
  {
   "cell_type": "code",
   "execution_count": null,
   "metadata": {},
   "outputs": [],
   "source": []
  },
  {
   "cell_type": "code",
   "execution_count": null,
   "metadata": {},
   "outputs": [],
   "source": [
    "acc_all = []\n",
    "f1_all = []\n",
    "precision_all = []\n",
    "recall_all = []\n",
    "\n",
    "for seed in range(10):\n",
    "    acc = []\n",
    "    f1 = []\n",
    "    precision = []\n",
    "    recall = []\n",
    "    for round in range(1,5):\n",
    "    \n",
    "        path = f'./ear_bert/entropybert-gab25k-{seed}-0.01/R{round}/prediction/hatecheck.csv'\n",
    "\n",
    "        data = pd.read_csv(path)\n",
    "        pred = data['pred_label'].to_list()\n",
    "        label = data['true_label'].to_list()\n",
    "        acc.append(accuracy_score(y_true=label, y_pred=pred))\n",
    "        f1.append(f1_score(y_true=label, y_pred=pred))\n",
    "        precision.append(precision_score(y_true=label, y_pred=pred))\n",
    "        recall.append(recall_score(y_true=label, y_pred=pred))\n",
    "    acc_all.append(acc)\n",
    "    f1_all.append(f1)\n",
    "    precision_all.append(precision)\n",
    "    recall_all.append(recall)"
   ]
  },
  {
   "cell_type": "code",
   "execution_count": null,
   "metadata": {},
   "outputs": [],
   "source": []
  }
 ],
 "metadata": {
  "kernelspec": {
   "display_name": "r255",
   "language": "python",
   "name": "python3"
  },
  "language_info": {
   "codemirror_mode": {
    "name": "ipython",
    "version": 3
   },
   "file_extension": ".py",
   "mimetype": "text/x-python",
   "name": "python",
   "nbconvert_exporter": "python",
   "pygments_lexer": "ipython3",
   "version": "3.10.9"
  },
  "orig_nbformat": 4
 },
 "nbformat": 4,
 "nbformat_minor": 2
}
